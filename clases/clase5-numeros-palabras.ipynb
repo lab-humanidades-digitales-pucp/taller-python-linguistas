{
 "cells": [
  {
   "cell_type": "markdown",
   "metadata": {},
   "source": [
    "# **Introducción a la lingüística computacional con Python**\n",
    "### Javier Vera Zúñiga, jveraz@pucp.edu.pe\n",
    "\n",
    "## Clase 5\n",
    "\n",
    "Dos problemas que han montivado todas las clases!\n",
    "\n",
    "- **Problema 1.** Construir un generador de números en Quechua. \n",
    "- **Problema 2.** Describir las frecuencias de palabras de un texto.  "
   ]
  },
  {
   "cell_type": "markdown",
   "metadata": {},
   "source": [
    "### Problema 1. Construir un generador de números en Quechua.\n",
    "Para resolver este problema, debemos ser capaces de:\n",
    "- elegir un número entero **N** entre 1 y 99, por ejemplo, 32\n",
    "- dividir el caso **N** menor a 10 y **N** mayor o igual a 10\n",
    "- descomponer ese número entre decena \"3\" y unidad \"2\"\n",
    "- el número final puede expresarse como: \"3 veces chunka\" concatenado con \"2(-ni)-yuq\"\n",
    "\n",
    "Cada paso requiere de detalles interesantes. Un **detalle crucial** es que los números como 30, se expresan como \"3 veces chunka\". Esto implica que podríamos pensar la unidad \"0\" como el string vacío ''."
   ]
  },
  {
   "cell_type": "markdown",
   "metadata": {},
   "source": [
    "Elegimos un número entre 1 y 99"
   ]
  },
  {
   "cell_type": "code",
   "execution_count": 43,
   "metadata": {},
   "outputs": [],
   "source": [
    "## número entero que queremos transformar en palabras en Quechua\n",
    "N = 32"
   ]
  },
  {
   "cell_type": "code",
   "execution_count": 44,
   "metadata": {},
   "outputs": [],
   "source": [
    "## string que expresa el número N en palabras\n",
    "string_quechua = ''"
   ]
  },
  {
   "cell_type": "code",
   "execution_count": 45,
   "metadata": {},
   "outputs": [
    {
     "data": {
      "text/plain": [
       "0"
      ]
     },
     "execution_count": 45,
     "metadata": {},
     "output_type": "execute_result"
    }
   ],
   "source": [
    "len(string_quechua)"
   ]
  },
  {
   "cell_type": "code",
   "execution_count": 46,
   "metadata": {},
   "outputs": [],
   "source": [
    "## números del 1 al 10. Expresamos el número 0 como el string vacío ''\n",
    "\n",
    "lista_numeros_0_10 = ['','huk', 'iskay', 'kimsa', 'tawa', 'pichqa', 'suqta', 'qanchis', 'pusaq', 'isqun', 'chunka']\n",
    "#'chunka huk-ni-yuq', 'chunka iskay-ni-yuq', 'chunka kimsa-yuq', 'chunka tawa-yuq', 'chunka pichqa-yuq',\n",
    "#'chunka suqta-yuq', 'chunka qanchis-ni-yuq', 'chunka pusaq-ni-yuq', 'chunka isqun-ni-yuq', 'iskay chunka']"
   ]
  },
  {
   "cell_type": "markdown",
   "metadata": {},
   "source": [
    "Separamos los casos para **N** menor a 10 y **N** mayor o igual a 10"
   ]
  },
  {
   "cell_type": "code",
   "execution_count": 47,
   "metadata": {},
   "outputs": [
    {
     "name": "stdout",
     "output_type": "stream",
     "text": [
      "estamos trabajando en la respuesta\n"
     ]
    }
   ],
   "source": [
    "## si N es menor a 10\n",
    "if N < 10:\n",
    "    ## usamos la lista\n",
    "    string_quechua = string_quechua + lista_numeros_0_10[N]\n",
    "    print(string_quechua)\n",
    "## para N mayor o igual a 10\n",
    "else:\n",
    "    print('estamos trabajando en la respuesta')"
   ]
  },
  {
   "cell_type": "markdown",
   "metadata": {},
   "source": [
    "Para el caso **N** mayor o igual a 10, necesitamos saber cuál es la decena y cuál es la unidad. Usamos índices!"
   ]
  },
  {
   "cell_type": "code",
   "execution_count": 48,
   "metadata": {},
   "outputs": [
    {
     "name": "stdout",
     "output_type": "stream",
     "text": [
      "32 32\n"
     ]
    }
   ],
   "source": [
    "## N es un número entero, str(N) es un string\n",
    "string_N = str(N)\n",
    "print(N, string_N)\n",
    "## decena: primer caracter\n",
    "decena = string_N[0]\n",
    "\n",
    "## unidad: segundo caracter\n",
    "unidad = string_N[1]"
   ]
  },
  {
   "cell_type": "code",
   "execution_count": 49,
   "metadata": {},
   "outputs": [
    {
     "data": {
      "text/plain": [
       "('3', '2')"
      ]
     },
     "execution_count": 49,
     "metadata": {},
     "output_type": "execute_result"
    }
   ],
   "source": [
    "decena, unidad"
   ]
  },
  {
   "cell_type": "code",
   "execution_count": 50,
   "metadata": {},
   "outputs": [
    {
     "data": {
      "text/plain": [
       "'2'"
      ]
     },
     "execution_count": 50,
     "metadata": {},
     "output_type": "execute_result"
    }
   ],
   "source": [
    "str(32)[1]"
   ]
  },
  {
   "cell_type": "markdown",
   "metadata": {},
   "source": [
    "Necesitamos, entonces, transformar estos caracteres en números"
   ]
  },
  {
   "cell_type": "code",
   "execution_count": 51,
   "metadata": {},
   "outputs": [],
   "source": [
    "## decena: versión entero\n",
    "decena = int(decena)\n",
    "\n",
    "## unidad: versión entero\n",
    "unidad = int(unidad)"
   ]
  },
  {
   "cell_type": "code",
   "execution_count": 52,
   "metadata": {},
   "outputs": [
    {
     "data": {
      "text/plain": [
       "(3, 2)"
      ]
     },
     "execution_count": 52,
     "metadata": {},
     "output_type": "execute_result"
    }
   ],
   "source": [
    "decena, unidad"
   ]
  },
  {
   "cell_type": "markdown",
   "metadata": {},
   "source": [
    "Ahora, volvemos a la secuencia de condiciones"
   ]
  },
  {
   "cell_type": "code",
   "execution_count": 63,
   "metadata": {},
   "outputs": [],
   "source": [
    "## string que expresa el número N en palabras\n",
    "string_quechua = ''"
   ]
  },
  {
   "cell_type": "code",
   "execution_count": 64,
   "metadata": {},
   "outputs": [],
   "source": [
    "N = 32"
   ]
  },
  {
   "cell_type": "code",
   "execution_count": 65,
   "metadata": {},
   "outputs": [
    {
     "name": "stdout",
     "output_type": "stream",
     "text": [
      "kimsa chunka iskay\n"
     ]
    }
   ],
   "source": [
    "## si N es menor a 10\n",
    "if N <= 10:\n",
    "    ## usamos la lista\n",
    "    string_quechua = string_quechua + lista_numeros_0_10[N]\n",
    "    print(string_quechua)\n",
    "## para N mayor o igual a 10\n",
    "else:\n",
    "    ## N es un número entero, str(N) es un string\n",
    "    string_N = str(N)\n",
    "\n",
    "    ## decena: primer caracter\n",
    "    decena = string_N[0]\n",
    "\n",
    "    ## unidad: segundo caracter\n",
    "    unidad = string_N[1]\n",
    "    \n",
    "    ## decena: versión entero\n",
    "    decena = int(decena)\n",
    "\n",
    "    ## unidad: versión entero\n",
    "    unidad = int(unidad)\n",
    "    \n",
    "    ## generamos un número provisorio. Usamos los enteros \"decena\" y \"unidad\" para acceder a la lista\n",
    "    string_quechua = string_quechua + lista_numeros_0_10[decena] + ' ' + 'chunka' + ' ' +  lista_numeros_0_10[unidad]\n",
    "    print(string_quechua)"
   ]
  },
  {
   "cell_type": "markdown",
   "metadata": {},
   "source": [
    "Debemos agregar la condición sobre la terminación en vocal o consonante"
   ]
  },
  {
   "cell_type": "code",
   "execution_count": 70,
   "metadata": {},
   "outputs": [
    {
     "data": {
      "text/plain": [
       "'y'"
      ]
     },
     "execution_count": 70,
     "metadata": {},
     "output_type": "execute_result"
    }
   ],
   "source": [
    "string_quechua[-1]"
   ]
  },
  {
   "cell_type": "code",
   "execution_count": 71,
   "metadata": {},
   "outputs": [],
   "source": [
    "## definamos el conjunto de vocales\n",
    "vocales = ['a', 'e', 'i', 'o', 'u']\n",
    "\n",
    "## caracter final de string\n",
    "caracter_final = string_quechua[-1]"
   ]
  },
  {
   "cell_type": "code",
   "execution_count": 72,
   "metadata": {},
   "outputs": [
    {
     "data": {
      "text/plain": [
       "'y'"
      ]
     },
     "execution_count": 72,
     "metadata": {},
     "output_type": "execute_result"
    }
   ],
   "source": [
    "caracter_final"
   ]
  },
  {
   "cell_type": "markdown",
   "metadata": {},
   "source": [
    "Los números entre 1 y 99 tienen la forma \"decena\" + chunka + \"unidad\"+(-ni)-yuq, dependiendo si la unidad termina o no en vocal"
   ]
  },
  {
   "cell_type": "code",
   "execution_count": 73,
   "metadata": {},
   "outputs": [
    {
     "data": {
      "text/plain": [
       "'kimsa chunka iskay'"
      ]
     },
     "execution_count": 73,
     "metadata": {},
     "output_type": "execute_result"
    }
   ],
   "source": [
    "string_quechua"
   ]
  },
  {
   "cell_type": "code",
   "execution_count": 74,
   "metadata": {},
   "outputs": [],
   "source": [
    "## usamos if-else\n",
    "## si la palabra termina en vocal\n",
    "if string_quechua[-1] in vocales:\n",
    "    ## agregamos -ni-yuq\n",
    "    string_quechua = string_quechua + '-yuq'\n",
    "## en otro caso, es decir, si termina en consonante\n",
    "else:\n",
    "    string_quechua = string_quechua + '-ni-yuq'"
   ]
  },
  {
   "cell_type": "code",
   "execution_count": 75,
   "metadata": {},
   "outputs": [
    {
     "data": {
      "text/plain": [
       "'kimsa chunka iskay-ni-yuq'"
      ]
     },
     "execution_count": 75,
     "metadata": {},
     "output_type": "execute_result"
    }
   ],
   "source": [
    "string_quechua"
   ]
  },
  {
   "cell_type": "markdown",
   "metadata": {},
   "source": [
    "Juntemos todo!"
   ]
  },
  {
   "cell_type": "code",
   "execution_count": 80,
   "metadata": {},
   "outputs": [],
   "source": [
    "## número entero que queremos transformar en palabras en Quechua\n",
    "N = 17"
   ]
  },
  {
   "cell_type": "code",
   "execution_count": 81,
   "metadata": {},
   "outputs": [],
   "source": [
    "## string que expresa el número N en palabras\n",
    "string_quechua = ''"
   ]
  },
  {
   "cell_type": "code",
   "execution_count": 82,
   "metadata": {},
   "outputs": [
    {
     "name": "stdout",
     "output_type": "stream",
     "text": [
      "17 huk chunka qanchis-ni-yuq\n"
     ]
    }
   ],
   "source": [
    "## si N es menor a 10\n",
    "if N <= 10:\n",
    "    ## usamos la lista\n",
    "    string_quechua = string_quechua + lista_numeros_0_10[N]\n",
    "    print(N, string_quechua)\n",
    "## para N mayor o igual a 10\n",
    "else:\n",
    "    ## N es un número entero, str(N) es un string\n",
    "    string_N = str(N)\n",
    "\n",
    "    ## decena: primer caracter\n",
    "    decena = string_N[0]\n",
    "\n",
    "    ## unidad: segundo caracter\n",
    "    unidad = string_N[1]\n",
    "    \n",
    "    ## decena: versión entero\n",
    "    decena = int(decena)\n",
    "\n",
    "    ## unidad: versión entero\n",
    "    unidad = int(unidad)\n",
    "    \n",
    "    ## generamos un número provisorio. Usamos los enteros \"decena\" y \"unidad\" para acceder a la lista\n",
    "    string_quechua = string_quechua + lista_numeros_0_10[decena] + ' ' + 'chunka' + ' ' +  lista_numeros_0_10[unidad]\n",
    "    \n",
    "    ## definamos el conjunto de vocales\n",
    "    vocales = ['a', 'e', 'i', 'o', 'u']\n",
    "\n",
    "    ## caracter final de string\n",
    "    caracter_final = string_quechua[-1]\n",
    "    \n",
    "    ## solo agregamos (-ni)-yuq si la unidad es mayor a 0\n",
    "    if unidad > 0:\n",
    "        ## usamos if-else\n",
    "        ## si la palabra termina en vocal\n",
    "        if string_quechua[-1] in vocales:\n",
    "            ## agregamos -ni-yuq\n",
    "            string_quechua = string_quechua + '-yuq'\n",
    "        ## en otro caso, es decir, si termina en consonante\n",
    "        else:\n",
    "            string_quechua = string_quechua + '-ni-yuq'\n",
    "    print(N, string_quechua)"
   ]
  },
  {
   "cell_type": "markdown",
   "metadata": {
    "id": "Z94xIrgS63k9"
   },
   "source": [
    "### Problema 2. Describir las frecuencias de palabras de un texto.  \n",
    "Para resolver este problema, debemos ser capaces de:\n",
    "- filtrar signos de puntuación, y transformar todos los strings a minúscula\n",
    "- identificar las palabras únicas del texto, types\n",
    "- contar el número de veces que aparece cada type\n",
    "- describir la distribución de frecuencias\n",
    "\n",
    "Cada paso requiere de detalles interesantes. "
   ]
  },
  {
   "cell_type": "code",
   "execution_count": 88,
   "metadata": {},
   "outputs": [
    {
     "data": {
      "text/plain": [
       "['hola', 'chao']"
      ]
     },
     "execution_count": 88,
     "metadata": {},
     "output_type": "execute_result"
    }
   ],
   "source": [
    "'hola chao'.split(' ')"
   ]
  },
  {
   "cell_type": "code",
   "execution_count": 83,
   "metadata": {},
   "outputs": [],
   "source": [
    "## lista de strings\n",
    "\n",
    "texto = ['Augusta',\n",
    " 'Ada',\n",
    " 'King,',\n",
    " 'condesa',\n",
    " 'de',\n",
    " 'Lovelace,',\n",
    " 'registrada',\n",
    " 'al',\n",
    " 'nacer',\n",
    " 'como',\n",
    " 'Augusta',\n",
    " 'Ada',\n",
    " 'Byron',\n",
    " 'y',\n",
    " 'conocida',\n",
    " 'habitualmente',\n",
    " 'como',\n",
    " 'Ada',\n",
    " 'Lovelace,',\n",
    " 'fue',\n",
    " 'una',\n",
    " 'matemática',\n",
    " 'y',\n",
    " 'escritora',\n",
    " 'británica,',\n",
    " 'célebre',\n",
    " 'sobre',\n",
    " 'todo',\n",
    " 'por',\n",
    " 'su',\n",
    " 'trabajo',\n",
    " 'acerca',\n",
    " 'de',\n",
    " 'la',\n",
    " 'computadora',\n",
    " 'mecánica',\n",
    " 'de',\n",
    " 'uso',\n",
    " 'general',\n",
    " 'de',\n",
    " 'Charles',\n",
    " 'Babbage,',\n",
    " 'la',\n",
    " 'denominada',\n",
    " 'máquina',\n",
    " 'analítica.',\n",
    " 'Fue',\n",
    " 'la',\n",
    " 'primera',\n",
    " 'en',\n",
    " 'reconocer',\n",
    " 'que',\n",
    " 'la',\n",
    " 'máquina',\n",
    " 'tenía',\n",
    " 'aplicaciones',\n",
    " 'más',\n",
    " 'allá',\n",
    " 'del',\n",
    " 'cálculo',\n",
    " 'puro',\n",
    " 'y',\n",
    " 'en',\n",
    " 'haber',\n",
    " 'publicado',\n",
    " 'lo',\n",
    " 'que',\n",
    " 'se',\n",
    " 'reconoce',\n",
    " 'hoy',\n",
    " 'como',\n",
    " 'el',\n",
    " 'primer',\n",
    " 'algoritmo',\n",
    " 'destinado',\n",
    " 'a',\n",
    " 'ser',\n",
    " 'procesado',\n",
    " 'por',\n",
    " 'una',\n",
    " 'máquina,',\n",
    " 'por',\n",
    " 'lo',\n",
    " 'que',\n",
    " 'se',\n",
    " 'la',\n",
    " 'considera',\n",
    " 'como',\n",
    " 'la',\n",
    " 'primera',\n",
    " 'programadora',\n",
    " 'de',\n",
    " 'ordenadores.']"
   ]
  },
  {
   "cell_type": "markdown",
   "metadata": {},
   "source": [
    "Filtramos signos de puntuación, y transformar todos los strings a minúscula"
   ]
  },
  {
   "cell_type": "code",
   "execution_count": 84,
   "metadata": {},
   "outputs": [],
   "source": [
    "## puntuación que queremos filtrar\n",
    "puntuacion = [',', '.']\n",
    "\n",
    "## lista vacía\n",
    "texto_filtrado = []\n",
    "\n",
    "## recorremos la lista\n",
    "for palabra in texto:\n",
    "    ## si termina en puntuación\n",
    "    if palabra[-1] in puntuacion:\n",
    "        ## borramos el caracter final\n",
    "        palabra = palabra[:-1]\n",
    "    ## palabra en minúscula\n",
    "    palabra = palabra.lower()\n",
    "    ## guardamos\n",
    "    texto_filtrado = texto_filtrado + [palabra]"
   ]
  },
  {
   "cell_type": "code",
   "execution_count": 87,
   "metadata": {},
   "outputs": [
    {
     "data": {
      "text/plain": [
       "['augusta',\n",
       " 'ada',\n",
       " 'king',\n",
       " 'condesa',\n",
       " 'de',\n",
       " 'lovelace',\n",
       " 'registrada',\n",
       " 'al',\n",
       " 'nacer',\n",
       " 'como']"
      ]
     },
     "execution_count": 87,
     "metadata": {},
     "output_type": "execute_result"
    }
   ],
   "source": [
    "texto_filtrado[:10]"
   ]
  },
  {
   "cell_type": "markdown",
   "metadata": {},
   "source": [
    "Identificamos las palabras únicas del texto, types"
   ]
  },
  {
   "cell_type": "code",
   "execution_count": 89,
   "metadata": {},
   "outputs": [],
   "source": [
    "## lista palabras únicas\n",
    "palabras_unicas = []\n",
    "\n",
    "## recorremos las palabras\n",
    "for palabra in texto_filtrado:\n",
    "    ## si no está, la agregamos\n",
    "    if palabra not in palabras_unicas:\n",
    "        ## agregamos la palabra\n",
    "        palabras_unicas = palabras_unicas + [palabra]"
   ]
  },
  {
   "cell_type": "code",
   "execution_count": 90,
   "metadata": {},
   "outputs": [
    {
     "data": {
      "text/plain": [
       "(93, 63)"
      ]
     },
     "execution_count": 90,
     "metadata": {},
     "output_type": "execute_result"
    }
   ],
   "source": [
    "len(texto_filtrado),len(palabras_unicas)"
   ]
  },
  {
   "cell_type": "code",
   "execution_count": 22,
   "metadata": {},
   "outputs": [
    {
     "data": {
      "text/plain": [
       "['augusta',\n",
       " 'ada',\n",
       " 'king',\n",
       " 'condesa',\n",
       " 'de',\n",
       " 'lovelace',\n",
       " 'registrada',\n",
       " 'al',\n",
       " 'nacer',\n",
       " 'como']"
      ]
     },
     "execution_count": 22,
     "metadata": {},
     "output_type": "execute_result"
    }
   ],
   "source": [
    "palabras_unicas[:10]"
   ]
  },
  {
   "cell_type": "code",
   "execution_count": 91,
   "metadata": {},
   "outputs": [
    {
     "data": {
      "text/plain": [
       "2"
      ]
     },
     "execution_count": 91,
     "metadata": {},
     "output_type": "execute_result"
    }
   ],
   "source": [
    "texto_filtrado.count('augusta')"
   ]
  },
  {
   "cell_type": "markdown",
   "metadata": {},
   "source": [
    "Contamos el número de veces que aparece cada type. Para hacer este cálculo, definimos una lista, del tamaño de la lista **palabras_unicas** donde guardaremos las frencuencias. Inicialmente, todas las frecuencias serán 0."
   ]
  },
  {
   "cell_type": "code",
   "execution_count": 92,
   "metadata": {},
   "outputs": [],
   "source": [
    "## n = largo de la lista de types\n",
    "n = len(palabras_unicas)"
   ]
  },
  {
   "cell_type": "code",
   "execution_count": 93,
   "metadata": {},
   "outputs": [
    {
     "data": {
      "text/plain": [
       "63"
      ]
     },
     "execution_count": 93,
     "metadata": {},
     "output_type": "execute_result"
    }
   ],
   "source": [
    "n"
   ]
  },
  {
   "cell_type": "code",
   "execution_count": 94,
   "metadata": {},
   "outputs": [],
   "source": [
    "## lista de ceros\n",
    "frecuencias = []\n",
    "\n",
    "## recorremos los elementos de palabras_unicas, por cada uno agregamos un cero\n",
    "for palabra in palabras_unicas:\n",
    "    ## agregamos un cero\n",
    "    frecuencias = frecuencias + [0]"
   ]
  },
  {
   "cell_type": "code",
   "execution_count": 95,
   "metadata": {},
   "outputs": [
    {
     "name": "stdout",
     "output_type": "stream",
     "text": [
      "63 63\n"
     ]
    }
   ],
   "source": [
    "print(len(palabras_unicas), len(frecuencias))"
   ]
  },
  {
   "cell_type": "code",
   "execution_count": 26,
   "metadata": {},
   "outputs": [
    {
     "data": {
      "text/plain": [
       "[0, 0, 0, 0, 0, 0, 0, 0, 0, 0]"
      ]
     },
     "execution_count": 26,
     "metadata": {},
     "output_type": "execute_result"
    }
   ],
   "source": [
    "frecuencias[:10]"
   ]
  },
  {
   "cell_type": "markdown",
   "metadata": {},
   "source": [
    "Ahora debemos contar frecuencias! Para esto, debemos recorrer la lista **texto_filtrado** y cada vez que aparece un type, debemos sumar 1 a la frecuencia."
   ]
  },
  {
   "cell_type": "code",
   "execution_count": 96,
   "metadata": {},
   "outputs": [],
   "source": [
    "## recorremos las palabras de la lista texto_filtrado\n",
    "for palabra in texto_filtrado:\n",
    "    ## usamos el índice de ese elemento en la lista palabra_unicas\n",
    "    indice = palabras_unicas.index(palabra)\n",
    "    ## sumamos 1 en ese índice de la lista frecuencias\n",
    "    frecuencias[indice] = frecuencias[indice] + 1"
   ]
  },
  {
   "cell_type": "code",
   "execution_count": 97,
   "metadata": {},
   "outputs": [
    {
     "data": {
      "text/plain": [
       "[2,\n",
       " 3,\n",
       " 1,\n",
       " 1,\n",
       " 5,\n",
       " 2,\n",
       " 1,\n",
       " 1,\n",
       " 1,\n",
       " 4,\n",
       " 1,\n",
       " 3,\n",
       " 1,\n",
       " 1,\n",
       " 2,\n",
       " 2,\n",
       " 1,\n",
       " 1,\n",
       " 1,\n",
       " 1,\n",
       " 1,\n",
       " 1,\n",
       " 3,\n",
       " 1,\n",
       " 1,\n",
       " 1,\n",
       " 6,\n",
       " 1,\n",
       " 1,\n",
       " 1,\n",
       " 1,\n",
       " 1,\n",
       " 1,\n",
       " 1,\n",
       " 3,\n",
       " 1,\n",
       " 2,\n",
       " 2,\n",
       " 1,\n",
       " 3,\n",
       " 1,\n",
       " 1,\n",
       " 1,\n",
       " 1,\n",
       " 1,\n",
       " 1,\n",
       " 1,\n",
       " 1,\n",
       " 1,\n",
       " 2,\n",
       " 2,\n",
       " 1,\n",
       " 1,\n",
       " 1,\n",
       " 1,\n",
       " 1,\n",
       " 1,\n",
       " 1,\n",
       " 1,\n",
       " 1,\n",
       " 1,\n",
       " 1,\n",
       " 1]"
      ]
     },
     "execution_count": 97,
     "metadata": {},
     "output_type": "execute_result"
    }
   ],
   "source": [
    "frecuencias"
   ]
  },
  {
   "cell_type": "code",
   "execution_count": 29,
   "metadata": {},
   "outputs": [
    {
     "data": {
      "text/plain": [
       "93"
      ]
     },
     "execution_count": 29,
     "metadata": {},
     "output_type": "execute_result"
    }
   ],
   "source": [
    "## comprobamos\n",
    "sum(frecuencias)"
   ]
  },
  {
   "cell_type": "markdown",
   "metadata": {},
   "source": [
    "Juntamos los resultados de frecuencias con los de palabras únicas"
   ]
  },
  {
   "cell_type": "code",
   "execution_count": 98,
   "metadata": {},
   "outputs": [],
   "source": [
    "## definimos una lista con los resultados\n",
    "palabra_freq = []\n",
    "\n",
    "## recorremos los índices de la lista palabras_unicas\n",
    "for i in range(len(palabras_unicas)):\n",
    "    ## guardamos en una mini lista\n",
    "    par_palabra_freq = [palabras_unicas[i], frecuencias[i]]\n",
    "    ## guardamos esta lista\n",
    "    palabra_freq += [par_palabra_freq]"
   ]
  },
  {
   "cell_type": "code",
   "execution_count": 99,
   "metadata": {},
   "outputs": [
    {
     "data": {
      "text/plain": [
       "[['augusta', 2],\n",
       " ['ada', 3],\n",
       " ['king', 1],\n",
       " ['condesa', 1],\n",
       " ['de', 5],\n",
       " ['lovelace', 2],\n",
       " ['registrada', 1],\n",
       " ['al', 1],\n",
       " ['nacer', 1],\n",
       " ['como', 4],\n",
       " ['byron', 1],\n",
       " ['y', 3],\n",
       " ['conocida', 1],\n",
       " ['habitualmente', 1],\n",
       " ['fue', 2],\n",
       " ['una', 2],\n",
       " ['matemática', 1],\n",
       " ['escritora', 1],\n",
       " ['británica', 1],\n",
       " ['célebre', 1],\n",
       " ['sobre', 1],\n",
       " ['todo', 1],\n",
       " ['por', 3],\n",
       " ['su', 1],\n",
       " ['trabajo', 1],\n",
       " ['acerca', 1],\n",
       " ['la', 6],\n",
       " ['computadora', 1],\n",
       " ['mecánica', 1],\n",
       " ['uso', 1],\n",
       " ['general', 1],\n",
       " ['charles', 1],\n",
       " ['babbage', 1],\n",
       " ['denominada', 1],\n",
       " ['máquina', 3],\n",
       " ['analítica', 1],\n",
       " ['primera', 2],\n",
       " ['en', 2],\n",
       " ['reconocer', 1],\n",
       " ['que', 3],\n",
       " ['tenía', 1],\n",
       " ['aplicaciones', 1],\n",
       " ['más', 1],\n",
       " ['allá', 1],\n",
       " ['del', 1],\n",
       " ['cálculo', 1],\n",
       " ['puro', 1],\n",
       " ['haber', 1],\n",
       " ['publicado', 1],\n",
       " ['lo', 2],\n",
       " ['se', 2],\n",
       " ['reconoce', 1],\n",
       " ['hoy', 1],\n",
       " ['el', 1],\n",
       " ['primer', 1],\n",
       " ['algoritmo', 1],\n",
       " ['destinado', 1],\n",
       " ['a', 1],\n",
       " ['ser', 1],\n",
       " ['procesado', 1],\n",
       " ['considera', 1],\n",
       " ['programadora', 1],\n",
       " ['ordenadores', 1]]"
      ]
     },
     "execution_count": 99,
     "metadata": {},
     "output_type": "execute_result"
    }
   ],
   "source": [
    "palabra_freq"
   ]
  },
  {
   "cell_type": "code",
   "execution_count": 100,
   "metadata": {},
   "outputs": [],
   "source": [
    "## ordenamos de mayor a menor\n",
    "palabra_freq.sort(key=lambda L: L[1], reverse = True)"
   ]
  },
  {
   "cell_type": "code",
   "execution_count": 101,
   "metadata": {},
   "outputs": [
    {
     "data": {
      "text/plain": [
       "[['la', 6],\n",
       " ['de', 5],\n",
       " ['como', 4],\n",
       " ['ada', 3],\n",
       " ['y', 3],\n",
       " ['por', 3],\n",
       " ['máquina', 3],\n",
       " ['que', 3],\n",
       " ['augusta', 2],\n",
       " ['lovelace', 2],\n",
       " ['fue', 2],\n",
       " ['una', 2],\n",
       " ['primera', 2],\n",
       " ['en', 2],\n",
       " ['lo', 2],\n",
       " ['se', 2],\n",
       " ['king', 1],\n",
       " ['condesa', 1],\n",
       " ['registrada', 1],\n",
       " ['al', 1],\n",
       " ['nacer', 1],\n",
       " ['byron', 1],\n",
       " ['conocida', 1],\n",
       " ['habitualmente', 1],\n",
       " ['matemática', 1],\n",
       " ['escritora', 1],\n",
       " ['británica', 1],\n",
       " ['célebre', 1],\n",
       " ['sobre', 1],\n",
       " ['todo', 1],\n",
       " ['su', 1],\n",
       " ['trabajo', 1],\n",
       " ['acerca', 1],\n",
       " ['computadora', 1],\n",
       " ['mecánica', 1],\n",
       " ['uso', 1],\n",
       " ['general', 1],\n",
       " ['charles', 1],\n",
       " ['babbage', 1],\n",
       " ['denominada', 1],\n",
       " ['analítica', 1],\n",
       " ['reconocer', 1],\n",
       " ['tenía', 1],\n",
       " ['aplicaciones', 1],\n",
       " ['más', 1],\n",
       " ['allá', 1],\n",
       " ['del', 1],\n",
       " ['cálculo', 1],\n",
       " ['puro', 1],\n",
       " ['haber', 1],\n",
       " ['publicado', 1],\n",
       " ['reconoce', 1],\n",
       " ['hoy', 1],\n",
       " ['el', 1],\n",
       " ['primer', 1],\n",
       " ['algoritmo', 1],\n",
       " ['destinado', 1],\n",
       " ['a', 1],\n",
       " ['ser', 1],\n",
       " ['procesado', 1],\n",
       " ['considera', 1],\n",
       " ['programadora', 1],\n",
       " ['ordenadores', 1]]"
      ]
     },
     "execution_count": 101,
     "metadata": {},
     "output_type": "execute_result"
    }
   ],
   "source": [
    "palabra_freq"
   ]
  },
  {
   "cell_type": "code",
   "execution_count": null,
   "metadata": {},
   "outputs": [],
   "source": []
  }
 ],
 "metadata": {
  "colab": {
   "name": "semana-1.ipynb",
   "provenance": []
  },
  "kernelspec": {
   "display_name": "Python 3",
   "language": "python",
   "name": "python3"
  },
  "language_info": {
   "codemirror_mode": {
    "name": "ipython",
    "version": 3
   },
   "file_extension": ".py",
   "mimetype": "text/x-python",
   "name": "python",
   "nbconvert_exporter": "python",
   "pygments_lexer": "ipython3",
   "version": "3.8.8"
  }
 },
 "nbformat": 4,
 "nbformat_minor": 1
}
